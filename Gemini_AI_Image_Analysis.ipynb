{
  "nbformat": 4,
  "nbformat_minor": 0,
  "metadata": {
    "colab": {
      "provenance": []
    },
    "kernelspec": {
      "name": "python3",
      "display_name": "Python 3"
    },
    "language_info": {
      "name": "python"
    }
  },
  "cells": [
    {
      "cell_type": "code",
      "execution_count": 4,
      "metadata": {
        "id": "6DnBazS3XksK"
      },
      "outputs": [],
      "source": [
        "import google.generativeai as genai\n",
        "from google.colab import userdata\n",
        "\n",
        "GOOGLE_API_I = userdata.get('GOOGLE_API_I')\n",
        "genai.configure(api_key=GOOGLE_API_I)"
      ]
    },
    {
      "cell_type": "code",
      "source": [
        "import pathlib\n",
        "import textwrap\n",
        "\n",
        "from IPython.display import display, Markdown\n",
        "def to_Markdown(text):\n",
        "  text = text.replace('.', '  *')\n",
        "  return Markdown(textwrap.indent(text, '> ', predicate=lambda _: True ))"
      ],
      "metadata": {
        "id": "DlpJlX6nYSCM"
      },
      "execution_count": 6,
      "outputs": []
    },
    {
      "cell_type": "code",
      "source": [
        "import PIL.Image\n",
        "img = PIL.Image.open('image1.jpg')\n",
        "img\n",
        "\n",
        "model = genai.GenerativeModel('gemini-1.5-flash')\n",
        "\n",
        "# Make sure to close the string with the correct quotation mark\n",
        "response = model.generate_content([\n",
        "    \"write a short, engaging blog post based on this picture. \"\n",
        "    \"It should include a description of the meal in the photo and talk about my journey meal prepping.\", img\n",
        "], stream=True)\n",
        "\n",
        "response.resolve()"
      ],
      "metadata": {
        "id": "DEDvsk6bY6nH"
      },
      "execution_count": 7,
      "outputs": []
    },
    {
      "cell_type": "code",
      "source": [
        "to_Markdown(response.text)"
      ],
      "metadata": {
        "colab": {
          "base_uri": "https://localhost:8080/",
          "height": 460
        },
        "id": "SjZEee-Ob20z",
        "outputId": "d63d2b60-0b65-4521-c06c-900bc636700a"
      },
      "execution_count": 9,
      "outputs": [
        {
          "output_type": "execute_result",
          "data": {
            "text/plain": [
              "<IPython.core.display.Markdown object>"
            ],
            "text/markdown": "> ## My Meal Prep Journey: From Chaos to Colorful Containers!\n> \n> Look at this! Two perfectly portioned containers filled with deliciousness – my lunch sorted for the next couple of days  *  Inside, a bed of fluffy white rice is topped with tender teriyaki chicken, vibrant orange and red bell peppers, and a generous helping of broccoli  *  It's a flavor explosion in every bite, and the best part?  It took me just an hour to make both containers!\n> \n> For the longest time, lunch was a stressful scramble  *  Grab-and-go options were tempting, but my wallet (and waistline) certainly weren't fans  *  So I decided to embark on a meal prep journey  *  It started with ambitious Pinterest boards, followed by a few disastrous attempts at \"perfectly\" portioned meals that ended up looking less like a gourmet spread and more like a culinary crime scene  *\n> \n> But I persevered!  I learned to simplify my recipes, focusing on versatile ingredients and quick cooking methods  *  I discovered the magic of prepping ingredients ahead of time – chopping veggies on a Sunday night is the key to week-long success!\n> \n> Now, meal prepping isn't just about healthy eating; it's about saving time and money  *  It’s also about having delicious, satisfying lunches that I actually *look forward* to  *  Seeing these vibrant containers brings me joy knowing I have tasty, healthy food ready to go  *  \n> \n> Want to join the meal prep revolution?  Stay tuned for future posts sharing my favorite recipes and time-saving tips!  In the meantime, let me know in the comments: what are your go-to meal prep staples?\n"
          },
          "metadata": {},
          "execution_count": 9
        }
      ]
    },
    {
      "cell_type": "code",
      "source": [
        "response = model.generate_content([\"Generate an accurate caption for this image.\",img])\n",
        "print(response.text)"
      ],
      "metadata": {
        "colab": {
          "base_uri": "https://localhost:8080/",
          "height": 332
        },
        "id": "3gmZrhoycECX",
        "outputId": "24118a74-f071-4757-f0c7-381f846cd87a"
      },
      "execution_count": 10,
      "outputs": [
        {
          "output_type": "stream",
          "name": "stdout",
          "text": [
            "Here's a caption for the image:\n",
            "\n",
            "**Option 1 (Concise):**\n",
            "\n",
            "> Healthy and delicious meal prep!  Chicken and broccoli with rice.\n",
            "\n",
            "**Option 2 (More descriptive):**\n",
            "\n",
            "> Two containers of prepped meals featuring teriyaki chicken, steamed rice, broccoli, and carrots. Perfect for a quick and nutritious lunch or dinner.\n",
            "\n",
            "**Option 3 (Engaging):**\n",
            "\n",
            ">  Meal prep made easy!  These chicken and veggie bowls are packed with flavor and will keep you fueled all week long. What's your favorite healthy meal prep recipe? #mealprep #healthyfood #chickenandbroccoli #lunchideas\n",
            "\n",
            "\n",
            "Choose the option that best suits your intended audience and platform.\n",
            "\n"
          ]
        }
      ]
    },
    {
      "cell_type": "code",
      "source": [
        "from PIL import Image\n",
        "image_path = \"girl.jpg\"\n",
        "image = Image.open(image_path)\n",
        "response = model.generate_content([\"Describe this image in detail.\",image])\n",
        "print(response.text)"
      ],
      "metadata": {
        "colab": {
          "base_uri": "https://localhost:8080/",
          "height": 263
        },
        "id": "iMMSpFnPeZJh",
        "outputId": "bd80550a-d7c3-47ae-802f-25c134e5ac7a"
      },
      "execution_count": 11,
      "outputs": [
        {
          "output_type": "stream",
          "name": "stdout",
          "text": [
            "Here's a description of the image:\n",
            "\n",
            "Close-up view of a woman with shoulder-length, curly brown hair. \n",
            "\n",
            "\n",
            "She is light-skinned and has a warm, friendly expression with a slight smile. Her eyes are dark, and her makeup is subtle. She is wearing a teal blue three-quarter sleeve top with a subtle gold print pattern. The top appears to be made of a soft, possibly slightly textured, material. \n",
            "\n",
            "\n",
            "The woman is gesturing with her right index finger, pointing to the viewer's left, suggesting she's directing attention or making a point. Her arms are folded across her chest, with one arm resting over the other. \n",
            "\n",
            "\n",
            "The background is plain white, providing a clean and simple setting that keeps the focus on the woman. The overall impression is one of approachability and possibly a friendly advertisement or informative presentation.\n",
            "\n"
          ]
        }
      ]
    },
    {
      "cell_type": "code",
      "source": [
        "response = model.generate_content([\"What emotions can you detect in this image?\", image])\n",
        "print(response.text)"
      ],
      "metadata": {
        "colab": {
          "base_uri": "https://localhost:8080/",
          "height": 141
        },
        "id": "1a9_y4ylgzjD",
        "outputId": "50304649-d955-4289-dea3-01f90a4a14b7"
      },
      "execution_count": 12,
      "outputs": [
        {
          "output_type": "stream",
          "name": "stdout",
          "text": [
            "The woman in the image appears to be expressing:\n",
            "\n",
            "* **Happiness/Joy:** Her smile is genuine and bright, suggesting positive emotions.\n",
            "* **Confidence:**  Her posture and direct gaze towards the camera convey self-assurance.\n",
            "* **Helpfulness/Guidance:** The gesture of pointing suggests she's offering information or direction.\n",
            "* **Friendliness/Approachability:**  Her overall demeanor is welcoming and inviting.\n"
          ]
        }
      ]
    },
    {
      "cell_type": "code",
      "source": [],
      "metadata": {
        "id": "ZkFdoLQ5hsTX"
      },
      "execution_count": null,
      "outputs": []
    }
  ]
}