{
 "cells": [
  {
   "cell_type": "code",
   "execution_count": 11,
   "id": "fe7cf76e",
   "metadata": {},
   "outputs": [],
   "source": [
    "import requests\n",
    "\n",
    "from bs4 import BeautifulSoup\n",
    "\n",
    "url = \"http://quotes.toscrape.com/\"\n",
    "\n",
    "response = requests.get(url)"
   ]
  },
  {
   "cell_type": "code",
   "execution_count": 12,
   "id": "461446c4",
   "metadata": {},
   "outputs": [
    {
     "name": "stdout",
     "output_type": "stream",
     "text": [
      "1. \"“The world as we have created it is a process of our thinking. It cannot be changed without changing our thinking.”\" - Albert Einstein\n",
      "   Tags: change, deep-thoughts, thinking, world\n",
      "\n",
      "2. \"“It is our choices, Harry, that show what we truly are, far more than our abilities.”\" - J.K. Rowling\n",
      "   Tags: abilities, choices\n",
      "\n",
      "3. \"“There are only two ways to live your life. One is as though nothing is a miracle. The other is as though everything is a miracle.”\" - Albert Einstein\n",
      "   Tags: inspirational, life, live, miracle, miracles\n",
      "\n",
      "4. \"“The person, be it gentleman or lady, who has not pleasure in a good novel, must be intolerably stupid.”\" - Jane Austen\n",
      "   Tags: aliteracy, books, classic, humor\n",
      "\n",
      "5. \"“Imperfection is beauty, madness is genius and it's better to be absolutely ridiculous than absolutely boring.”\" - Marilyn Monroe\n",
      "   Tags: be-yourself, inspirational\n",
      "\n"
     ]
    }
   ],
   "source": [
    "if response.status_code == 200:\n",
    "    soup = BeautifulSoup(response.text, 'html.parser')\n",
    "\n",
    "    quotes = soup.find_all(\"div\", class_=\"quote\")\n",
    "\n",
    "    for i, quote in enumerate(quotes[:5]):  # Get first 5 quotes\n",
    "\n",
    "        text = quote.find(\"span\", class_=\"text\").text  # Quote text\n",
    "\n",
    "        author = quote.find(\"small\", class_=\"author\").text  # Author name\n",
    "\n",
    "        tags = [tag.text for tag in quote.find_all(\"a\", class_=\"tag\")]  # List of tags\n",
    "\n",
    "        print(f\"{i+1}. \\\"{text}\\\" - {author}\")\n",
    "\n",
    "        print(f\"   Tags: {', '.join(tags)}\\n\")\n",
    "\n",
    "else:\n",
    "\n",
    "    print(f\"Failed to retrieve the webpage. Status Code: {response.status_code}\")"
   ]
  },
  {
   "cell_type": "code",
   "execution_count": 13,
   "id": "9ebeb1a2",
   "metadata": {},
   "outputs": [],
   "source": [
    "import requests\n",
    "\n",
    "from bs4 import BeautifulSoup\n",
    "\n",
    " \n",
    "\n",
    "# Define the city (e.g., New York)\n",
    "\n",
    "city = \"india/hyderabad\"\n",
    "\n",
    " \n",
    "\n",
    "# Weather URL\n",
    "\n",
    "url = f\"https://www.timeanddate.com/weather/{city}\"\n",
    "\n",
    " \n",
    "\n",
    "# Send GET request\n",
    "\n",
    "response = requests.get(url)\n",
    "\n",
    "soup = BeautifulSoup(response.text, 'html.parser')"
   ]
  },
  {
   "cell_type": "code",
   "execution_count": 14,
   "id": "8da7e4a1",
   "metadata": {},
   "outputs": [
    {
     "name": "stdout",
     "output_type": "stream",
     "text": [
      "Current Weather in Hyderabad: 28 °C | Haze.\n"
     ]
    }
   ],
   "source": [
    "# Extract temperature and description\n",
    "\n",
    "temp = soup.find(\"div\", class_=\"h2\").text.strip() if soup.find(\"div\", class_=\"h2\") else \"N/A\"\n",
    "\n",
    "desc = soup.find(\"p\").text.strip() if soup.find(\"p\") else \"N/A\"\n",
    "\n",
    " \n",
    "\n",
    "print(f\"Current Weather in Hyderabad: {temp} | {desc}\")"
   ]
  },
  {
   "cell_type": "code",
   "execution_count": 15,
   "id": "0c2a4789",
   "metadata": {},
   "outputs": [],
   "source": [
    "import requests\n",
    "from bs4 import BeautifulSoup\n",
    "# Product search URL (Example: iPhone)\n",
    "search_url = \"https://www.amazon.in/s?k=iphone&crid=PQVCJSNISAH4&sprefix=iphone%2Caps%2C233&ref=nb_sb_noss_2\"\n",
    "# Headers (Mimic a browser)\n",
    "headers = {\n",
    "    \"User-Agent\": \"Mozilla/5.0 (Windows NT 10.0; Win64; x64) AppleWebKit/537.36 (KHTML, like Gecko) Chrome/91.0.4472.124 Safari/537.36\"\n",
    "}"
   ]
  },
  {
   "cell_type": "code",
   "execution_count": 16,
   "id": "4619a7ef",
   "metadata": {},
   "outputs": [
    {
     "name": "stdout",
     "output_type": "stream",
     "text": [
      "Could not find product details.\n"
     ]
    }
   ],
   "source": [
    "# Send GET request\n",
    "response = requests.get(search_url, headers=headers)\n",
    "soup = BeautifulSoup(response.text, \"html.parser\")\n",
    "# Extract first product name & price\n",
    "product = soup.select_one(\"span.a-size-medium\")\n",
    "price = soup.select_one(\"span.a-price-whole\")\n",
    "# Display product details\n",
    "if product and price:\n",
    "    print(f\"Product: {product.text.strip()}\")\n",
    "    print(f\"Price: ${price.text.strip()}\")\n",
    "else:\n",
    "    print(\"Could not find product details.\")"
   ]
  },
  {
   "cell_type": "code",
   "execution_count": 17,
   "id": "cb83d9fd",
   "metadata": {},
   "outputs": [
    {
     "name": "stdout",
     "output_type": "stream",
     "text": [
      "World: 8,119,000,000\n",
      "China: 1,408,280,000\n",
      "1,402,737,000: 17.2%\n",
      "United States: 340,110,988\n",
      "Indonesia: 282,477,584\n"
     ]
    }
   ],
   "source": [
    "import requests\n",
    "\n",
    "from bs4 import BeautifulSoup\n",
    "\n",
    "url = \"https://en.wikipedia.org/wiki/List_of_countries_and_dependencies_by_population\"\n",
    "\n",
    "response = requests.get(url,headers=headers)\n",
    "\n",
    "soup = BeautifulSoup(response.text, \"html.parser\")\n",
    "\n",
    "table = soup.find(\"table\", class_=\"wikitable\")\n",
    "\n",
    "for row in table.find_all(\"tr\")[1:6]:  # Skip the header row\n",
    "\n",
    "    columns = row.find_all(\"td\")\n",
    "\n",
    "    country = columns[1].text.strip()\n",
    "\n",
    "    population = columns[2].text.strip()\n",
    "\n",
    "    print(f\"{country}: {population}\")"
   ]
  },
  {
   "cell_type": "code",
   "execution_count": 18,
   "id": "df3b5d0d",
   "metadata": {},
   "outputs": [],
   "source": [
    "from IPython.display import display, HTML"
   ]
  },
  {
   "cell_type": "code",
   "execution_count": 19,
   "id": "eeecce62",
   "metadata": {},
   "outputs": [
    {
     "data": {
      "text/html": [
       "<table>\n",
       "\n",
       "  <tr>\n",
       "\n",
       "    <th>Company</th>\n",
       "\n",
       "    <th>Contact</th>\n",
       "\n",
       "    <th>Country</th>\n",
       "\n",
       "  </tr>\n",
       "\n",
       "  <tr>\n",
       "\n",
       "    <td>Alfreds Futterkiste</td>\n",
       "\n",
       "    <td>Maria Anders</td>\n",
       "\n",
       "    <td>Germany</td>\n",
       "\n",
       "  </tr>\n",
       "\n",
       "  <tr>\n",
       "\n",
       "    <td>Centro comercial Moctezuma</td>\n",
       "\n",
       "    <td>Francisco Chang</td>\n",
       "\n",
       "    <td>Mexico</td>\n",
       "\n",
       "  </tr>\n",
       "\n",
       "</table>\n",
       "\n"
      ],
      "text/plain": [
       "<IPython.core.display.HTML object>"
      ]
     },
     "metadata": {},
     "output_type": "display_data"
    }
   ],
   "source": [
    "display(HTML(\"\"\"<table>\n",
    "\n",
    "  <tr>\n",
    "\n",
    "    <th>Company</th>\n",
    "\n",
    "    <th>Contact</th>\n",
    "\n",
    "    <th>Country</th>\n",
    "\n",
    "  </tr>\n",
    "\n",
    "  <tr>\n",
    "\n",
    "    <td>Alfreds Futterkiste</td>\n",
    "\n",
    "    <td>Maria Anders</td>\n",
    "\n",
    "    <td>Germany</td>\n",
    "\n",
    "  </tr>\n",
    "\n",
    "  <tr>\n",
    "\n",
    "    <td>Centro comercial Moctezuma</td>\n",
    "\n",
    "    <td>Francisco Chang</td>\n",
    "\n",
    "    <td>Mexico</td>\n",
    "\n",
    "  </tr>\n",
    "\n",
    "</table>\n",
    "\n",
    "\"\"\"))"
   ]
  },
  {
   "cell_type": "code",
   "execution_count": null,
   "id": "0fc20386",
   "metadata": {},
   "outputs": [],
   "source": []
  }
 ],
 "metadata": {
  "kernelspec": {
   "display_name": "Python 3 (ipykernel)",
   "language": "python",
   "name": "python3"
  },
  "language_info": {
   "codemirror_mode": {
    "name": "ipython",
    "version": 3
   },
   "file_extension": ".py",
   "mimetype": "text/x-python",
   "name": "python",
   "nbconvert_exporter": "python",
   "pygments_lexer": "ipython3",
   "version": "3.9.13"
  }
 },
 "nbformat": 4,
 "nbformat_minor": 5
}
